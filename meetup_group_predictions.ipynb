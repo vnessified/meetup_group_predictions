{
 "cells": [
  {
   "cell_type": "markdown",
   "metadata": {},
   "source": [
    "## Meetup Group Category Predictions"
   ]
  },
  {
   "cell_type": "code",
   "execution_count": 1,
   "metadata": {
    "collapsed": true
   },
   "outputs": [],
   "source": [
    "import json\n",
    "import numpy as np\n",
    "import pandas as pd\n",
    "from collections import Counter\n",
    "\n",
    "import re\n",
    "from bs4 import BeautifulSoup \n",
    "\n",
    "import nltk\n",
    "from nltk.corpus import stopwords \n",
    "\n",
    "from sklearn.model_selection import train_test_split, GridSearchCV\n",
    "from sklearn.feature_extraction.text import CountVectorizer, TfidfVectorizer\n",
    "\n",
    "from vnessified_naive_bayes import vnessifiedNB\n",
    "from sklearn.naive_bayes import MultinomialNB\n",
    "from sklearn.ensemble import RandomForestClassifier\n",
    "from sklearn import metrics\n",
    "from sklearn.metrics import classification_report, roc_curve, auc\n",
    "\n",
    "import matplotlib.pyplot as plt\n",
    "%matplotlib inline"
   ]
  },
  {
   "cell_type": "markdown",
   "metadata": {},
   "source": [
    "### Introduction\n",
    "The dataset I've chosen to implement machine learning on for my final project is data I collected for my [Data Engineering project](https://github.com/vnessified/meetup_data) in which I stream, structure, store, and analyze event data from [Meetup.com](https://www.meetup.com/) using their [OpenEvent Stream API](https://www.meetup.com/meetup_api/docs/stream/2/open_events/). \n",
    "\n",
    "### Data Source \n",
    "Below is an example of what the raw data looks like: "
   ]
  },
  {
   "cell_type": "code",
   "execution_count": 4,
   "metadata": {},
   "outputs": [
    {
     "data": {
      "text/plain": [
       "{'description': \"<p>Hi all.</p> \\n<p>We play in Sydney Park, on the area known as The Green. The Green is located near the cafe and the children's playground. There are 3 parking lots in the park (does that sound a bit weird to you too?) The park is located across the road from St Peters train station and is on the 422 and 370 bus routes.</p> \\n<p>Starting at 3, a gold coin donation is very much appreciated.</p> \\n<p>Cheers all.</p>\",\n",
       " 'event_url': 'https://www.meetup.com/Sydney-Volleyball-in-the-Park/events/239795815/',\n",
       " 'group': {'category': {'id': 32,\n",
       "   'name': 'sports/recreation',\n",
       "   'shortname': 'sports-recreation'},\n",
       "  'city': 'Sydney',\n",
       "  'country': 'au',\n",
       "  'group_lat': -33.87,\n",
       "  'group_lon': 151.21,\n",
       "  'group_photo': {'highres_link': 'https://secure.meetupstatic.com/photos/event/d/b/5/1/highres_15836145.jpeg',\n",
       "   'photo_id': 15836145,\n",
       "   'photo_link': 'https://secure.meetupstatic.com/photos/event/d/b/5/1/600_15836145.jpeg',\n",
       "   'thumb_link': 'https://secure.meetupstatic.com/photos/event/d/b/5/1/thumb_15836145.jpeg'},\n",
       "  'id': 1517323,\n",
       "  'join_mode': 'open',\n",
       "  'name': 'Sydney Volleyball in the Park',\n",
       "  'urlname': 'Sydney-Volleyball-in-the-Park'},\n",
       " 'id': 'blzqgmywhbsb',\n",
       " 'maybe_rsvp_count': 0,\n",
       " 'mtime': 1494726922295,\n",
       " 'name': 'Play volleyball',\n",
       " 'payment_required': '0',\n",
       " 'rsvp_limit': 0,\n",
       " 'status': 'canceled',\n",
       " 'time': 1494738000000,\n",
       " 'utc_offset': 36000000,\n",
       " 'venue': {'address_1': 'King St St Peters',\n",
       "  'address_2': 'carpark on left after the two chimney stacks',\n",
       "  'city': 'Sydney',\n",
       "  'country': 'au',\n",
       "  'lat': -33.907865,\n",
       "  'lon': 151.181283,\n",
       "  'name': 'Sydney Park',\n",
       "  'phone': '0401525552',\n",
       "  'zip': 'meetup1'},\n",
       " 'venue_visibility': 'public',\n",
       " 'visibility': 'public',\n",
       " 'yes_rsvp_count': 15}"
      ]
     },
     "execution_count": 4,
     "metadata": {},
     "output_type": "execute_result"
    }
   ],
   "source": [
    "meetup_json = []\n",
    "\n",
    "with open('meetup_sample.json', 'r') as f:\n",
    "    for line in f:\n",
    "        meetup_json.append(json.loads(line))\n",
    "        \n",
    "meetup_json[62]"
   ]
  },
  {
   "cell_type": "markdown",
   "metadata": {},
   "source": [
    "The event data Meetup offers is fairly feature rich, providing data on event description, information on the group hosting the event, event venue location, RSVP information, etc. \n",
    "(see some basic stats & EDA on the dashboard I created [here](https://s3.amazonaws.com/meetupevents-dashboard/meetupevents-report.html)). To generate the dataset used in the below analysis, I created a subset of the data using Spark to ETL, saved a random sampling (40% of the total data) as a .csv file to work with scikit-learn locally on my computer (trying to save the entire datset as a .csv unfortunately caused memory errors in Spark, which tells me I probably wouldn't have been able to work with it locally on my computer anyway).\n",
    "\n",
    "### Problem & Goals\n",
    "To be perfectly honest, my inital goal was a bit uninspired — to predict RVSP count using various features in the data (I probably would've gone with the obvious choice of a simple linear regression to start). I quickly realized this makes almost no sense as the data is streaming, so more often than not, RVSP count is zero (however some events have a RVSP count greater than zero, as is the case in the sample above, this is because modified events are also pushed to the event stream, and so some time has elapsed for people to RVSP). To predict a final RVSP count, I'd have to look historical data and not streaming data. However, I'm actually glad this idea didn't pan out because what I arrived at next is definitely more interesting and gives some credit to the dataset's underlying represenation of human nature — that is the need for connection with others. \n",
    "\n",
    "Ultimately, the goal I arrived at is to predict group category based on event description. From a human interest perspective, this goal speaks to how we communicate and how that communication can be condensed and categorized. From a business perspective, being able to predict a group category based on event description could be useful for auto-suggesting tags for events (as of right now, it's my understanding that Meetup events don't even have a tagging functionality). A feature like this would help users discover events they interested in more easily. From a technical perspective, as this is a NLP problem, I make use of the NLTK package as well as scikit-learn's CountVectorizer and TfidfVectorizer feature extraction tools. In terms of model selection, I employ both Random Forest and Naive Bayes as both have been show to perform well with text data. Random Forest seemed especially promising as it's embarrassingly parallelizable, and therefore a good candidate for running on a distributed computing architecture (such as Spark & EMR). However, I ran into issues with trying to fit the model (issues as in always returning an error) and therefore made the switch to a smaller sample of data and scikit-learn for a local implementation. "
   ]
  },
  {
   "cell_type": "markdown",
   "metadata": {},
   "source": [
    "### Load Data, Munging & EDA"
   ]
  },
  {
   "cell_type": "code",
   "execution_count": 5,
   "metadata": {},
   "outputs": [
    {
     "data": {
      "text/html": [
       "<div>\n",
       "<table border=\"1\" class=\"dataframe\">\n",
       "  <thead>\n",
       "    <tr style=\"text-align: right;\">\n",
       "      <th></th>\n",
       "      <th>description</th>\n",
       "      <th>status</th>\n",
       "      <th>event_id</th>\n",
       "      <th>event_name</th>\n",
       "      <th>category</th>\n",
       "    </tr>\n",
       "  </thead>\n",
       "  <tbody>\n",
       "    <tr>\n",
       "      <th>0</th>\n",
       "      <td>&lt;p&gt;FOOD AND FELLOWSHIP | 5 PM&lt;/p&gt; \\n&lt;p&gt;CONCERT...</td>\n",
       "      <td>upcoming</td>\n",
       "      <td>239660020</td>\n",
       "      <td>We Are Messengers Concert</td>\n",
       "      <td>singles</td>\n",
       "    </tr>\n",
       "    <tr>\n",
       "      <th>1</th>\n",
       "      <td>&lt;p&gt;&lt;b&gt;【WhyNot!?JAPAN + MeetUp Collaboration Ev...</td>\n",
       "      <td>upcoming</td>\n",
       "      <td>239719229</td>\n",
       "      <td>Friendly Friday!!</td>\n",
       "      <td>socializing</td>\n",
       "    </tr>\n",
       "  </tbody>\n",
       "</table>\n",
       "</div>"
      ],
      "text/plain": [
       "                                         description    status   event_id  \\\n",
       "0  <p>FOOD AND FELLOWSHIP | 5 PM</p> \\n<p>CONCERT...  upcoming  239660020   \n",
       "1  <p><b>【WhyNot!?JAPAN + MeetUp Collaboration Ev...  upcoming  239719229   \n",
       "\n",
       "                  event_name     category  \n",
       "0  We Are Messengers Concert      singles  \n",
       "1          Friendly Friday!!  socializing  "
      ]
     },
     "execution_count": 5,
     "metadata": {},
     "output_type": "execute_result"
    }
   ],
   "source": [
    "meetup_raw = pd.read_csv('meetup.csv')\n",
    "meetup_raw.head(2)"
   ]
  },
  {
   "cell_type": "markdown",
   "metadata": {},
   "source": [
    "To simplify I'll turn this into a binary classification: \"outdoors/adventure\" vs \"tech\".  \n",
    "1) because they have a sort of duality and 2) because they are roughly balanced."
   ]
  },
  {
   "cell_type": "code",
   "execution_count": 6,
   "metadata": {
    "scrolled": false
   },
   "outputs": [
    {
     "data": {
      "text/plain": [
       "socializing                 26063\n",
       "outdoors/adventure          19167\n",
       "tech                        19161\n",
       "career/business             18029\n",
       "health/wellbeing            17534\n",
       "new age/spirituality        11082\n",
       "sports/recreation            9217\n",
       "fitness                      8412\n",
       "language/ethnic identity     7928\n",
       "games                        5370\n",
       "food/drink                   5310\n",
       "fine arts/culture            4235\n",
       "dancing                      4224\n",
       "education/learning           3783\n",
       "music                        3611\n",
       "movements/politics           3520\n",
       "community/environment        3281\n",
       "singles                      2899\n",
       "religion/beliefs             2892\n",
       "parents/family               2537\n",
       "photography                  2153\n",
       "hobbies/crafts               1981\n",
       "movies/film                  1888\n",
       "support                      1653\n",
       "LGBT                         1628\n",
       "book clubs                   1392\n",
       "writing                      1387\n",
       "cars/motorcycles             1338\n",
       "pets/animals                 1123\n",
       "sci-fi/fantasy                933\n",
       "alternative lifestyle         708\n",
       "fashion/beauty                378\n",
       "paranormal                    110\n",
       "Name: category, dtype: int64"
      ]
     },
     "execution_count": 6,
     "metadata": {},
     "output_type": "execute_result"
    }
   ],
   "source": [
    "meetup_raw.category.value_counts()"
   ]
  },
  {
   "cell_type": "code",
   "execution_count": 7,
   "metadata": {},
   "outputs": [
    {
     "data": {
      "text/plain": [
       "outdoors/adventure    19167\n",
       "tech                  19161\n",
       "Name: category, dtype: int64"
      ]
     },
     "execution_count": 7,
     "metadata": {},
     "output_type": "execute_result"
    }
   ],
   "source": [
    "# subsetting my data to only include rows that have category label outdoors/adventure or tech\n",
    "out_adv = meetup_raw.category == 'outdoors/adventure'; tech = meetup_raw.category == 'tech'\n",
    "meetup_2cls = meetup_raw[out_adv | tech]\n",
    "meetup_2cls.category.value_counts()"
   ]
  },
  {
   "cell_type": "code",
   "execution_count": 8,
   "metadata": {},
   "outputs": [
    {
     "name": "stdout",
     "output_type": "stream",
     "text": [
      "<class 'pandas.core.frame.DataFrame'>\n",
      "Int64Index: 38328 entries, 2 to 195318\n",
      "Data columns (total 5 columns):\n",
      "description    36401 non-null object\n",
      "status         38328 non-null object\n",
      "event_id       38328 non-null object\n",
      "event_name     38328 non-null object\n",
      "category       38328 non-null object\n",
      "dtypes: object(5)\n",
      "memory usage: 1.8+ MB\n"
     ]
    }
   ],
   "source": [
    "# looking for null values\n",
    "meetup_2cls.info()"
   ]
  },
  {
   "cell_type": "code",
   "execution_count": 9,
   "metadata": {},
   "outputs": [
    {
     "data": {
      "text/plain": [
       "(36401, 5)"
      ]
     },
     "execution_count": 9,
     "metadata": {},
     "output_type": "execute_result"
    }
   ],
   "source": [
    "# dropping null values... imputing would add more complexity than benefit here I think \n",
    "meetup_2cls = meetup_2cls.dropna()\n",
    "meetup_2cls.shape"
   ]
  },
  {
   "cell_type": "code",
   "execution_count": 10,
   "metadata": {},
   "outputs": [
    {
     "data": {
      "text/html": [
       "<div>\n",
       "<table border=\"1\" class=\"dataframe\">\n",
       "  <thead>\n",
       "    <tr style=\"text-align: right;\">\n",
       "      <th></th>\n",
       "      <th>description</th>\n",
       "      <th>status</th>\n",
       "      <th>event_id</th>\n",
       "      <th>event_name</th>\n",
       "      <th>category</th>\n",
       "      <th>category_bin</th>\n",
       "    </tr>\n",
       "  </thead>\n",
       "  <tbody>\n",
       "    <tr>\n",
       "      <th>2</th>\n",
       "      <td>&lt;p&gt;TENTATIVE&lt;br&gt;&lt;/p&gt;\\n&lt;p&gt;&lt;br&gt;&lt;/p&gt;\\n&lt;p&gt;10.30 - ...</td>\n",
       "      <td>upcoming</td>\n",
       "      <td>239691981</td>\n",
       "      <td>Ansible meetup</td>\n",
       "      <td>tech</td>\n",
       "      <td>1</td>\n",
       "    </tr>\n",
       "    <tr>\n",
       "      <th>8</th>\n",
       "      <td>&lt;p&gt;This is an introductory meeting to get to k...</td>\n",
       "      <td>upcoming</td>\n",
       "      <td>mtzxwmywjbjb</td>\n",
       "      <td>Authentication options</td>\n",
       "      <td>tech</td>\n",
       "      <td>1</td>\n",
       "    </tr>\n",
       "  </tbody>\n",
       "</table>\n",
       "</div>"
      ],
      "text/plain": [
       "                                         description    status      event_id  \\\n",
       "2  <p>TENTATIVE<br></p>\\n<p><br></p>\\n<p>10.30 - ...  upcoming     239691981   \n",
       "8  <p>This is an introductory meeting to get to k...  upcoming  mtzxwmywjbjb   \n",
       "\n",
       "               event_name category  category_bin  \n",
       "2          Ansible meetup     tech             1  \n",
       "8  Authentication options     tech             1  "
      ]
     },
     "execution_count": 10,
     "metadata": {},
     "output_type": "execute_result"
    }
   ],
   "source": [
    "# binarize category - 0 = outdoors/adventure and 1 = tech\n",
    "meetup_2cls['category_bin'] = meetup_2cls.category.apply(lambda x: 1 if x == \"tech\" else 0)\n",
    "meetup_2cls.head(2)"
   ]
  },
  {
   "cell_type": "code",
   "execution_count": 11,
   "metadata": {
    "scrolled": true
   },
   "outputs": [
    {
     "data": {
      "text/html": [
       "<div>\n",
       "<table border=\"1\" class=\"dataframe\">\n",
       "  <thead>\n",
       "    <tr style=\"text-align: right;\">\n",
       "      <th></th>\n",
       "      <th>description</th>\n",
       "      <th>category_bin</th>\n",
       "    </tr>\n",
       "  </thead>\n",
       "  <tbody>\n",
       "    <tr>\n",
       "      <th>0</th>\n",
       "      <td>&lt;p&gt;TENTATIVE&lt;br&gt;&lt;/p&gt;\\n&lt;p&gt;&lt;br&gt;&lt;/p&gt;\\n&lt;p&gt;10.30 - ...</td>\n",
       "      <td>1</td>\n",
       "    </tr>\n",
       "    <tr>\n",
       "      <th>1</th>\n",
       "      <td>&lt;p&gt;This is an introductory meeting to get to k...</td>\n",
       "      <td>1</td>\n",
       "    </tr>\n",
       "  </tbody>\n",
       "</table>\n",
       "</div>"
      ],
      "text/plain": [
       "                                         description  category_bin\n",
       "0  <p>TENTATIVE<br></p>\\n<p><br></p>\\n<p>10.30 - ...             1\n",
       "1  <p>This is an introductory meeting to get to k...             1"
      ]
     },
     "execution_count": 11,
     "metadata": {},
     "output_type": "execute_result"
    }
   ],
   "source": [
    "# clean up and subset to only the columns I'm interested in\n",
    "meetup_2cls.reset_index(drop=True, inplace=True)\n",
    "meetup_2cls = meetup_2cls[['description', 'category_bin']]\n",
    "meetup_2cls.head(2)"
   ]
  },
  {
   "cell_type": "markdown",
   "metadata": {},
   "source": [
    "The below function and my understanding of implementing basic NLP techniques is largely inspired by [this tutorial](https://www.kaggle.com/c/word2vec-nlp-tutorial/details/part-1-for-beginners-bag-of-words)"
   ]
  },
  {
   "cell_type": "code",
   "execution_count": 12,
   "metadata": {
    "collapsed": true
   },
   "outputs": [],
   "source": [
    "def text_cleaner(text):\n",
    "    \n",
    "    '''Cleans out html tags and other non-letter characters with a \n",
    "    regular expression and removes stop words'''\n",
    "    \n",
    "    # strip html with BeautifulSoup - get_text gives you the text free of html tags\n",
    "    no_html = BeautifulSoup(text).get_text() \n",
    " \n",
    "    # just to note: I realize punctuation could have some sentiment meaning \n",
    "    # but for simplicity sake I remove punctuation and numbers with this regulur expression \n",
    "    letters = re.sub(\"[^a-zA-Z]\", \" \", no_html) \n",
    "\n",
    "    # tokenize - lower case & split into list where elements are individul words\n",
    "    raw_words = letters.lower().split()                             \n",
    "\n",
    "    # NLTK supported languanges - for stop words \n",
    "    # stop words = frequency occuring words that don't have much meaning\n",
    "    langs = ['danish', 'dutch', 'english', 'finnish', 'french', 'german', 'hungarian', \n",
    "             'italian', 'norwegian', 'portuguese', 'russian', 'spanish', 'swedish', 'turkish']\n",
    "    \n",
    "    # convert stop words into a set because faster to search\n",
    "    stop_words = set(stopwords.words(langs))                  \n",
    "\n",
    "    # remove stop words from the data\n",
    "    words = [word for word in raw_words if not word in stop_words]   \n",
    "    \n",
    "    # join words back together\n",
    "    return( \" \".join(words))   "
   ]
  },
  {
   "cell_type": "code",
   "execution_count": 13,
   "metadata": {},
   "outputs": [
    {
     "name": "stderr",
     "output_type": "stream",
     "text": [
      "/Users/VanessaG/anaconda3/lib/python3.6/site-packages/bs4/__init__.py:181: UserWarning: No parser was explicitly specified, so I'm using the best available HTML parser for this system (\"lxml\"). This usually isn't a problem, but if you run this code on another system, or in a different virtual environment, it may use a different parser and behave differently.\n",
      "\n",
      "The code that caused this warning is on line 193 of the file /Users/VanessaG/anaconda3/lib/python3.6/runpy.py. To get rid of this warning, change code that looks like this:\n",
      "\n",
      " BeautifulSoup([your markup])\n",
      "\n",
      "to this:\n",
      "\n",
      " BeautifulSoup([your markup], \"lxml\")\n",
      "\n",
      "  markup_type=markup_type))\n",
      "/Users/VanessaG/anaconda3/lib/python3.6/site-packages/bs4/__init__.py:282: UserWarning: \"http://cst.dk/anders/main.html\" looks like a URL. Beautiful Soup is not an HTTP client. You should probably use an HTTP client like requests to get the document behind the URL, and feed that document to Beautiful Soup.\n",
      "  ' that document to Beautiful Soup.' % decoded_markup\n"
     ]
    }
   ],
   "source": [
    "# map the above function elementwise\n",
    "meetup_2cls['description'] = meetup_2cls.description.map(text_cleaner)"
   ]
  },
  {
   "cell_type": "code",
   "execution_count": 14,
   "metadata": {},
   "outputs": [
    {
     "data": {
      "text/html": [
       "<div>\n",
       "<table border=\"1\" class=\"dataframe\">\n",
       "  <thead>\n",
       "    <tr style=\"text-align: right;\">\n",
       "      <th></th>\n",
       "      <th>description</th>\n",
       "      <th>category_bin</th>\n",
       "    </tr>\n",
       "  </thead>\n",
       "  <tbody>\n",
       "    <tr>\n",
       "      <th>0</th>\n",
       "      <td>tentative introduction orientation session bre...</td>\n",
       "      <td>1</td>\n",
       "    </tr>\n",
       "    <tr>\n",
       "      <th>1</th>\n",
       "      <td>introductory meeting get know fellow coders sh...</td>\n",
       "      <td>1</td>\n",
       "    </tr>\n",
       "  </tbody>\n",
       "</table>\n",
       "</div>"
      ],
      "text/plain": [
       "                                         description  category_bin\n",
       "0  tentative introduction orientation session bre...             1\n",
       "1  introductory meeting get know fellow coders sh...             1"
      ]
     },
     "execution_count": 14,
     "metadata": {},
     "output_type": "execute_result"
    }
   ],
   "source": [
    "# sanity check\n",
    "meetup_2cls.head(2)"
   ]
  },
  {
   "cell_type": "code",
   "execution_count": 15,
   "metadata": {},
   "outputs": [
    {
     "name": "stdout",
     "output_type": "stream",
     "text": [
      "total words: 5563323\n",
      "average word count per description: 152\n",
      "total unique words: 122548\n",
      "--------------------------------\n",
      "top 10 most common words: [('sailing', 59238), ('nations', 36878), ('sailors', 33217), ('please', 30343), ('event', 23489), ('time', 22350), ('day', 21694), ('pm', 21283), ('us', 20960), ('get', 20425)]\n",
      "--------------------------------\n",
      "word counts of words used in category label:\n",
      "tech 3859\n",
      "technology 4186\n",
      "outdoors 896\n",
      "adventure 3162\n"
     ]
    }
   ],
   "source": [
    "# some basic word stats\n",
    "print(\"total words:\", \n",
    "      sum(meetup_2cls['description'].str.split().map(lambda x: len(x))))\n",
    "print(\"average word count per description:\", \n",
    "      int(sum(meetup_2cls['description'].str.split().map(lambda x: len(x)))/meetup_2cls['description'].shape))\n",
    "\n",
    "unique_words = set()\n",
    "meetup_2cls['description'].str.split().map(unique_words.update)\n",
    "print(\"total unique words:\", len(unique_words))\n",
    "\n",
    "print(\"--------------------------------\")\n",
    "\n",
    "wc = Counter()\n",
    "meetup_2cls['description'].str.split().map(wc.update)\n",
    "print(\"top 10 most common words:\", wc.most_common(10))\n",
    "\n",
    "print(\"--------------------------------\")\n",
    "\n",
    "print(\"word counts of words used in category label:\")\n",
    "category_label_words = ['tech', 'technology', 'outdoors', 'adventure']\n",
    "\n",
    "for key in category_label_words:\n",
    "    print(key, wc.get(key))\n"
   ]
  },
  {
   "cell_type": "markdown",
   "metadata": {},
   "source": [
    "I think it makes sense to remove words like 'tech', 'technology', 'outdoors', 'outdoors', 'adventure', as they could potentially cause overfitting..."
   ]
  },
  {
   "cell_type": "code",
   "execution_count": 16,
   "metadata": {
    "collapsed": true
   },
   "outputs": [],
   "source": [
    "def rm_category_label_words(text):\n",
    "    \n",
    "    '''removes words in description that are in the category name'''\n",
    "    desc_words = text.split()\n",
    "    \n",
    "    # words used in category label\n",
    "    category_label_words = ['tech', 'technology', 'outdoors', 'outdoor', 'adventure']                 \n",
    "\n",
    "    # remove category label words\n",
    "    words = [word for word in desc_words if not word in category_label_words]   \n",
    "    \n",
    "    # join words back together\n",
    "    return( \" \".join(words))"
   ]
  },
  {
   "cell_type": "code",
   "execution_count": 17,
   "metadata": {
    "collapsed": true
   },
   "outputs": [],
   "source": [
    "# map the above function elementwise\n",
    "meetup_2cls['description'] = meetup_2cls.description.map(rm_category_label_words)"
   ]
  },
  {
   "cell_type": "code",
   "execution_count": 18,
   "metadata": {},
   "outputs": [
    {
     "name": "stdout",
     "output_type": "stream",
     "text": [
      "tech None\n",
      "technology None\n",
      "outdoors None\n",
      "adventure None\n"
     ]
    }
   ],
   "source": [
    "# sanity check\n",
    "wc2 = Counter()\n",
    "meetup_2cls['description'].str.split().map(wc2.update)\n",
    "\n",
    "for key in category_label_words:\n",
    "    print(key, wc2.get(key))"
   ]
  },
  {
   "cell_type": "code",
   "execution_count": 19,
   "metadata": {
    "collapsed": true
   },
   "outputs": [],
   "source": [
    "# train test split before creating \"bag of words\"\n",
    "X = meetup_2cls['description']\n",
    "y = meetup_2cls['category_bin']\n",
    "\n",
    "X_train, X_test, y_train, y_test = train_test_split(X, y, test_size=.25)"
   ]
  },
  {
   "cell_type": "markdown",
   "metadata": {},
   "source": [
    "Initially I tried CountVectorizer, but this gives a count of each word. What I think is better is a frequency, ie normalized counts - so I use TfidfVectorizer.\n",
    "\n",
    "Some interesting parameters here:\n",
    "- analyzer determines whether a feature is a word or character n-gram\n",
    "- tokenizer and preprocessor are set to None as I already did this above\n",
    "- L1 norm for normalizing the term vectors\n",
    "- max_features only considers the top 500 features/words by frequency"
   ]
  },
  {
   "cell_type": "code",
   "execution_count": 20,
   "metadata": {
    "collapsed": true
   },
   "outputs": [],
   "source": [
    "tf_vectorizer = TfidfVectorizer(analyzer = \"word\", tokenizer = None, norm = 'l1',\n",
    "                                preprocessor = None, max_features = 500)"
   ]
  },
  {
   "cell_type": "code",
   "execution_count": 21,
   "metadata": {
    "collapsed": true
   },
   "outputs": [],
   "source": [
    "# each row in the array is a description for an event, each column is a word (ie feature)\n",
    "# and the element is a normalized count for that particular word and description\n",
    "\n",
    "X_train_vec_tf = tf_vectorizer.fit_transform(X_train)\n",
    "X_train_vec_tf = X_train_vec_tf.toarray()"
   ]
  },
  {
   "cell_type": "code",
   "execution_count": 22,
   "metadata": {},
   "outputs": [
    {
     "data": {
      "text/plain": [
       "array([[ 0.        ,  0.        ,  0.        , ...,  0.        ,\n",
       "         0.        ,  0.        ],\n",
       "       [ 0.        ,  0.        ,  0.        , ...,  0.        ,\n",
       "         0.        ,  0.        ],\n",
       "       [ 0.01884139,  0.        ,  0.        , ...,  0.        ,\n",
       "         0.        ,  0.        ],\n",
       "       ..., \n",
       "       [ 0.        ,  0.        ,  0.        , ...,  0.        ,\n",
       "         0.        ,  0.07204789],\n",
       "       [ 0.        ,  0.        ,  0.        , ...,  0.        ,\n",
       "         0.        ,  0.        ],\n",
       "       [ 0.        ,  0.        ,  0.        , ...,  0.        ,\n",
       "         0.        ,  0.        ]])"
      ]
     },
     "execution_count": 22,
     "metadata": {},
     "output_type": "execute_result"
    }
   ],
   "source": [
    "X_train_vec_tf"
   ]
  },
  {
   "cell_type": "code",
   "execution_count": 23,
   "metadata": {},
   "outputs": [
    {
     "data": {
      "text/plain": [
       "(27300, 500)"
      ]
     },
     "execution_count": 23,
     "metadata": {},
     "output_type": "execute_result"
    }
   ],
   "source": [
    "X_train_vec_tf.shape"
   ]
  },
  {
   "cell_type": "code",
   "execution_count": 24,
   "metadata": {},
   "outputs": [
    {
     "data": {
      "text/plain": [
       "500"
      ]
     },
     "execution_count": 24,
     "metadata": {},
     "output_type": "execute_result"
    }
   ],
   "source": [
    "vocab = tf_vectorizer.get_feature_names()\n",
    "len(vocab)"
   ]
  },
  {
   "cell_type": "code",
   "execution_count": 25,
   "metadata": {
    "scrolled": false
   },
   "outputs": [
    {
     "data": {
      "text/plain": [
       "['able', 'accommodation', 'across', 'active']"
      ]
     },
     "execution_count": 25,
     "metadata": {},
     "output_type": "execute_result"
    }
   ],
   "source": [
    "vocab[:4]"
   ]
  },
  {
   "cell_type": "code",
   "execution_count": 26,
   "metadata": {
    "scrolled": true
   },
   "outputs": [
    {
     "data": {
      "text/plain": [
       "4"
      ]
     },
     "execution_count": 26,
     "metadata": {},
     "output_type": "execute_result"
    }
   ],
   "source": [
    "# .vocabulary_ is a dict, where the keys are the words (features) and the values are indices \n",
    "# NOT word counts!!\n",
    "tf_vectorizer.vocabulary_.get('activities')"
   ]
  },
  {
   "cell_type": "markdown",
   "metadata": {},
   "source": [
    "## Model 1 — Random Forest\n",
    "As mentioned above I implement a Random Forest Classifier here as it has shown to work well in similar NLP problems. I also find the ability to extract feature importance to be very useful.\n",
    "\n",
    "Additionally, I wanted to gridsearch but it took incredibly long... as in running over 10 minutes and nothing happening but if I were to gridsearch this is how I would do it...\n",
    "\n",
    "    forest_params = {\n",
    "        \"n_estimators\": [50, 100, 150], \n",
    "        \"max_features\": [None, 1, 2, 3, 4, 5],              \n",
    "        \"max_depth\": [None, 3, 4, 5],\n",
    "        \"min_samples_split\": [2,.05,.25],\n",
    "         \"max_leaf_nodes\": [None, 5,6,7]}\n",
    "\n",
    "    forest_gs = GridSearchCV(forest, forest_params, cv=5, verbose=0, n_jobs=-1)\n",
    "    forest_gs.fit(X_train_vec, y_train)\n",
    "\n",
    "    print(\"Best estimator parameters:\", forest_gs.best_params_)\n",
    "    print(\"Best CV score:\", forest_gs.best_score_)\n",
    "    print(\"Best accuracy:\", \n",
    "    forest_gs.best_estimator_.score(X_train_vec, y_test))"
   ]
  },
  {
   "cell_type": "code",
   "execution_count": 27,
   "metadata": {
    "collapsed": true
   },
   "outputs": [],
   "source": [
    "# I tried this with n_estimators = 100 and the default of 10 works just as well\n",
    "forest = RandomForestClassifier() \n",
    "forest = forest.fit(X_train_vec_tf, y_train)"
   ]
  },
  {
   "cell_type": "code",
   "execution_count": 28,
   "metadata": {
    "collapsed": true
   },
   "outputs": [],
   "source": [
    "# separately vectorize test set based on norm parameters of train set - hence just .transform\n",
    "X_test_vec_tf = tf_vectorizer.transform(X_test)\n",
    "X_test_vec_tf = X_test_vec_tf.toarray()"
   ]
  },
  {
   "cell_type": "code",
   "execution_count": 29,
   "metadata": {},
   "outputs": [
    {
     "data": {
      "text/plain": [
       "0.95758707834303924"
      ]
     },
     "execution_count": 29,
     "metadata": {},
     "output_type": "execute_result"
    }
   ],
   "source": [
    "forest.score(X_test_vec_tf, y_test)"
   ]
  },
  {
   "cell_type": "code",
   "execution_count": 30,
   "metadata": {},
   "outputs": [
    {
     "data": {
      "text/plain": [
       "0.95758707834303924"
      ]
     },
     "execution_count": 30,
     "metadata": {},
     "output_type": "execute_result"
    }
   ],
   "source": [
    "# I like to do these sanity checks\n",
    "predictions = forest.predict(X_test_vec_tf)\n",
    "sum(predictions == y_test) / len(y_test)"
   ]
  },
  {
   "cell_type": "code",
   "execution_count": 31,
   "metadata": {},
   "outputs": [
    {
     "name": "stdout",
     "output_type": "stream",
     "text": [
      "             precision    recall  f1-score   support\n",
      "\n",
      "          0       0.96      0.96      0.96      4665\n",
      "          1       0.95      0.96      0.96      4436\n",
      "\n",
      "avg / total       0.96      0.96      0.96      9101\n",
      "\n"
     ]
    }
   ],
   "source": [
    "print(metrics.classification_report(y_test, predictions))"
   ]
  },
  {
   "cell_type": "code",
   "execution_count": 32,
   "metadata": {},
   "outputs": [
    {
     "data": {
      "text/plain": [
       "1    209\n",
       "0    177\n",
       "Name: predicted, dtype: int64"
      ]
     },
     "execution_count": 32,
     "metadata": {},
     "output_type": "execute_result"
    }
   ],
   "source": [
    "# comparing actual vs predicted\n",
    "actual_vs_pred = pd.DataFrame(data={'actual': y_test, 'predicted': predictions})\n",
    "errors = actual_vs_pred[actual_vs_pred.actual != actual_vs_pred.predicted]\n",
    "\n",
    "# Recall:\n",
    "# 0 = outdoors/adventure\n",
    "# 1 = tech\n",
    "errors.predicted.value_counts()"
   ]
  },
  {
   "cell_type": "code",
   "execution_count": 33,
   "metadata": {
    "scrolled": true
   },
   "outputs": [
    {
     "data": {
      "image/png": "[encoded data removed]",
      "text/plain": [
       "<matplotlib.figure.Figure at 0x127006cf8>"
      ]
     },
     "metadata": {},
     "output_type": "display_data"
    }
   ],
   "source": [
    "# plot feature importance - important words\n",
    "feature_importance = pd.DataFrame({\n",
    "    'feature': vocab,\n",
    "    'importance': forest.feature_importances_})\n",
    "\n",
    "important_words = feature_importance.sort_values('importance', ascending=False)\n",
    "\n",
    "important_words[:10].plot.bar(x=\"feature\", legend=None, figsize=(6, 4), \\\n",
    "                            fontsize=14);"
   ]
  },
  {
   "cell_type": "code",
   "execution_count": 41,
   "metadata": {
    "scrolled": true
   },
   "outputs": [
    {
     "name": "stdout",
     "output_type": "stream",
     "text": [
      "water 10284\n",
      "miles 9848\n",
      "trip 11943\n",
      "hike 18166\n",
      "weather 7522\n",
      "trail 12122\n",
      "data 16304\n",
      "park 13455\n",
      "agenda 3498\n",
      "ride 13962\n"
     ]
    }
   ],
   "source": [
    "# curious how often these \"important\" words appear\n",
    "for key in important_words.feature[:10].tolist():\n",
    "    print(key, wc.get(key))"
   ]
  },
  {
   "cell_type": "code",
   "execution_count": 43,
   "metadata": {},
   "outputs": [
    {
     "data": {
      "image/png": "[encoded data removed]",
      "text/plain": [
       "<matplotlib.figure.Figure at 0x124a2c4a8>"
      ]
     },
     "metadata": {},
     "output_type": "display_data"
    }
   ],
   "source": [
    "# plot feature importance - unimportant words\n",
    "feature_importance = pd.DataFrame({\n",
    "    'feature': vocab,\n",
    "    'importance': forest.feature_importances_})\n",
    "\n",
    "unimportant_words = feature_importance.sort_values('importance', ascending=True)\n",
    "\n",
    "unimportant_words[:10].plot.bar(x=\"feature\", legend=None, figsize=(6, 4), \\\n",
    "                            fontsize=14);"
   ]
  },
  {
   "cell_type": "code",
   "execution_count": 44,
   "metadata": {},
   "outputs": [
    {
     "name": "stdout",
     "output_type": "stream",
     "text": [
      "apex 2016\n",
      "ijsselmeer 2416\n",
      "sailingnations 3767\n",
      "rich 2770\n",
      "singapore 2040\n",
      "yachts 2996\n",
      "apache 2165\n",
      "jun 3251\n",
      "villages 2981\n",
      "netherlands 2531\n"
     ]
    }
   ],
   "source": [
    "# same idea as for counts of important words but for \"unimportant\" words \n",
    "for key in unimportant_words.feature[:10].tolist():\n",
    "    print(key, wc.get(key))"
   ]
  },
  {
   "cell_type": "code",
   "execution_count": 45,
   "metadata": {},
   "outputs": [
    {
     "data": {
      "image/png": "[encoded data removed]",
      "text/plain": [
       "<matplotlib.figure.Figure at 0x1242f4828>"
      ]
     },
     "metadata": {},
     "output_type": "display_data"
    }
   ],
   "source": [
    "# plot ROC curve - modified from scikit-learn's example: \n",
    "# http://scikit-learn.org/stable/auto_examples/model_selection/plot_roc.html#sphx-glr-auto-examples-model-selection-plot-roc-py\n",
    "\n",
    "predicted_prob = forest.predict_proba(X_test_vec_tf)[:, 1]\n",
    "fpr_, tpr_, _ = roc_curve(y_test, predicted_prob)\n",
    "auc_ = auc(fpr_, tpr_)\n",
    "acc_ = np.abs(0.5 - np.mean(y_test)) + 0.5\n",
    "\n",
    "fig, ax = plt.subplots(figsize=(8,7))\n",
    "\n",
    "ax.plot(fpr_, tpr_, label='ROC (area = %0.2f)' % auc_, color='darkred', linewidth=2, alpha=0.7)\n",
    "ax.plot([0, 1], [0, 1], color='grey', ls='dashed',\n",
    "         alpha=0.9, linewidth=2, label='baseline accuracy = %0.2f' % acc_)\n",
    "\n",
    "ax.set_xlim([-0.05, 1.05])\n",
    "ax.set_ylim([0.0, 1.05])\n",
    "ax.set_xlabel('false positive rate', fontsize=14)\n",
    "ax.set_ylabel('true positive rate', fontsize=14)\n",
    "ax.set_title(\"ROC curve\", fontsize=18)\n",
    "\n",
    "ax.legend(loc=\"lower right\", fontsize=12);"
   ]
  },
  {
   "cell_type": "markdown",
   "metadata": {},
   "source": [
    "## Model 2 — Naive Bayes\n",
    "As mentioned above, similar to Random Forest, Naive Bayes has been shown to work well for NLP type problems. The Naive Bayes model below is my own implementation of the algorithm and serves also to fulfill the requirement of providing psedocode for a scikit-learn/Spark ML model. I compare it to sckit-learn's multinomial Naive Bayes classifier and in addition to accuracy, also evaluate my Naive Bayes implementation's precision, recall, and f1-score from scikit-learns classification report method.\n",
    "\n",
    "Here is the code for my implenation of Naive Bayes (from vnessified_naive_bayes.py):\n",
    "\n",
    "    class vnessifiedNB(object):\n",
    "\n",
    "        def __init__(self, alpha=1):\n",
    "            '''\n",
    "            My own implementation of NaiveBayes\n",
    "            INPUT:\n",
    "            - alpha: float, laplace smoothing constant\n",
    "            '''\n",
    "\n",
    "            self.class_totals = None\n",
    "            self.class_feature_totals = None\n",
    "            self.class_counts = None\n",
    "            self.alpha = alpha\n",
    "\n",
    "        def _compute_likelihood(self, X, y):\n",
    "            '''\n",
    "            INPUT:\n",
    "            - X: 2d numpy array, feature matrix\n",
    "            - y: numpy array, labels\n",
    "\n",
    "            Compute the totals for each class and the totals for each feature\n",
    "            and class.\n",
    "            '''\n",
    "            # contain the sum of all the features for each class - this is S_y\n",
    "            self.class_totals = Counter()\n",
    "\n",
    "            # contain the sum of each feature for each class\n",
    "            # this is S_yj\n",
    "            # dictionary of dictionaries (technically a defaultdict of Counters)\n",
    "            self.class_feature_totals = defaultdict(Counter)\n",
    "\n",
    "            class_labels = X.shape[0]\n",
    "            features = X.shape[1]\n",
    "\n",
    "            # loop through the rows to get the classes\n",
    "            for class_y in range(class_labels):\n",
    "                # loop through the columns for the features\n",
    "                for feature_j in range(features):\n",
    "\n",
    "                    # for class = 0, sum the corresponding rows - p(class0)\n",
    "                    # for class = 1, sum the corresponding rows - p(class1)\n",
    "                    self.class_totals[y[class_y]] += X[class_y, feature_j]\n",
    "\n",
    "                    # for each row where class = 0, get sum of each individual feature\n",
    "                    # for each row where class = 1, get sumeof each individual feature\n",
    "                    # This is essentially like a conditional probability table\n",
    "                    self.class_feature_totals[y[class_y]][feature_j] += X[class_y, feature_j]\n",
    "\n",
    "        def fit(self, X, y):\n",
    "            '''\n",
    "            INPUT:\n",
    "            - X: 2d numpy array, feature matrix\n",
    "            - y: numpy array, labels\n",
    "\n",
    "            OUTPUT: None\n",
    "            '''\n",
    "\n",
    "            # This section is given to you.\n",
    "\n",
    "            # compute priors\n",
    "            self.class_counts = Counter(y)\n",
    "\n",
    "            # compute likelihoods\n",
    "            self._compute_likelihood(X, y)\n",
    "\n",
    "        def predict(self, X):\n",
    "            '''\n",
    "            INPUT:\n",
    "            - X: 2d numpy array, feature matrix\n",
    "\n",
    "            OUTPUT:\n",
    "            - predictions: numpy array\n",
    "            '''\n",
    "\n",
    "            predictions = np.zeros(X.shape[0])\n",
    "\n",
    "            class_labels = X.shape[0]\n",
    "            features = X.shape[1]\n",
    "\n",
    "            # loop through the rows to get the classes\n",
    "            for class_y in range(class_labels):\n",
    "                # get class_label count\n",
    "                class_count = Counter()\n",
    "\n",
    "                # get the prior probability of classes\n",
    "                for key, value in self.class_counts.items():\n",
    "                    prior = Counter()\n",
    "\n",
    "                    # divide classes by total classes\n",
    "                    prior[key] = self.class_counts[key] / class_labels\n",
    "\n",
    "                    # update class_count with log of prior\n",
    "                    class_count[key] += np.log(prior[key])\n",
    "\n",
    "                    # for each row in the feature matrix X and for each potential label\n",
    "                    for feature_j in range(features):\n",
    "\n",
    "                        # this is just the log likelihoood calcuation:\n",
    "                        # log(S_yj + alpha / S_y + alpha * p)\n",
    "                        class_count[key] += X[class_y, feature_j] * np.log(\n",
    "                            (self.class_feature_totals[key][feature_j] + self.alpha)/\n",
    "                               (self.class_totals[key] + self.alpha * features))\n",
    "\n",
    "                # index into class\n",
    "                predictions[class_y] = class_count.most_common(1)[0][0]\n",
    "\n",
    "            return predictions\n",
    "\n",
    "        def score(self, X, y):\n",
    "            '''\n",
    "            INPUT:\n",
    "            - X: 2d numpy array, feature matrix\n",
    "            - y: numpy array, labels\n",
    "\n",
    "            OUTPUT:\n",
    "            - accuracy: float between 0 and 1\n",
    "\n",
    "            Calculate the accuracy, the percent of documents predicted correctly.\n",
    "            '''\n",
    "            return sum(self.predict(X) == y) / float(len(y))"
   ]
  },
  {
   "cell_type": "code",
   "execution_count": 46,
   "metadata": {
    "collapsed": true
   },
   "outputs": [],
   "source": [
    "# for my implementation of the model the input must be a numpy array and not a pandas series\n",
    "y_train_vals = y_train.values\n",
    "y_test_vals = y_test.values"
   ]
  },
  {
   "cell_type": "code",
   "execution_count": 47,
   "metadata": {
    "collapsed": true
   },
   "outputs": [],
   "source": [
    "nb = vnessifiedNB()\n",
    "nb.fit(X_train_vec_tf, y_train_vals)"
   ]
  },
  {
   "cell_type": "code",
   "execution_count": 48,
   "metadata": {},
   "outputs": [
    {
     "data": {
      "text/plain": [
       "MultinomialNB(alpha=1.0, class_prior=None, fit_prior=True)"
      ]
     },
     "execution_count": 48,
     "metadata": {},
     "output_type": "execute_result"
    }
   ],
   "source": [
    "# to compare to scikit-learn's implementation\n",
    "scikit_mnb = MultinomialNB()\n",
    "scikit_mnb.fit(X_train_vec_tf, y_train_vals)"
   ]
  },
  {
   "cell_type": "code",
   "execution_count": 49,
   "metadata": {},
   "outputs": [
    {
     "name": "stdout",
     "output_type": "stream",
     "text": [
      "My Implementation:\n",
      "Accuracy: 0.927260740578\n",
      "sklearn's Implementation\n",
      "Accuracy: 0.927260740578\n"
     ]
    }
   ],
   "source": [
    "print(\"My Implementation:\")\n",
    "print('Accuracy:', nb.score(X_test_vec_tf, y_test_vals))\n",
    "my_predictions =  nb.predict(X_test_vec_tf)\n",
    "\n",
    "\n",
    "print(\"sklearn's Implementation\")\n",
    "print('Accuracy:', scikit_mnb.score(X_test_vec_tf, y_test_vals))\n",
    "sklearn_predictions = scikit_mnb.predict(X_test_vec_tf)\n",
    "\n",
    "assert np.all(sklearn_predictions == my_predictions)"
   ]
  },
  {
   "cell_type": "code",
   "execution_count": 50,
   "metadata": {},
   "outputs": [
    {
     "name": "stdout",
     "output_type": "stream",
     "text": [
      "             precision    recall  f1-score   support\n",
      "\n",
      "          0       0.91      0.95      0.93      4665\n",
      "          1       0.95      0.90      0.92      4436\n",
      "\n",
      "avg / total       0.93      0.93      0.93      9101\n",
      "\n"
     ]
    }
   ],
   "source": [
    "print(metrics.classification_report(y_test, my_predictions))"
   ]
  },
  {
   "cell_type": "markdown",
   "metadata": {},
   "source": [
    "## Final Thoughts...\n",
    "Both Random Forest and my implementation of NaiveBayes perform extremely well. This could be in large part due to the fact that the feature matrix is 500 columns and so there could be some overfitting taking place. At the same time, exploring the feature importances returned by Random Forest seem very reasonable (ie words like 'water', 'miles', 'trip, 'hike' seem indicative of the category 'outdoor/adventure' whereas 'data' seems indicative of the category 'tech'). Random Forest seems to be a bit more robust, more so in terms of precision and recall compared to Naive Bayes. This makes sense as Random Forest is an ensemble model. Overall I feel confident in the selection of models so much so that I believe if the number of features is reduced to even 50 words, I think a fairly accurate model can still be derived. But this was likely a rudimentary NLP solutions as I'm not all that familiar with that discipline but I'm excited to learn more about it."
   ]
  },
  {
   "cell_type": "code",
   "execution_count": null,
   "metadata": {
    "collapsed": true
   },
   "outputs": [],
   "source": []
  }
 ],
 "metadata": {
  "kernelspec": {
   "display_name": "Python 3",
   "language": "python",
   "name": "python3"
  },
  "language_info": {
   "codemirror_mode": {
    "name": "ipython",
    "version": 3
   },
   "file_extension": ".py",
   "mimetype": "text/x-python",
   "name": "python",
   "nbconvert_exporter": "python",
   "pygments_lexer": "ipython3",
   "version": "3.6.1"
  }
 },
 "nbformat": 4,
 "nbformat_minor": 2
}
